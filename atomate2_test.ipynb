{
 "cells": [
  {
   "cell_type": "code",
   "execution_count": null,
   "metadata": {},
   "outputs": [],
   "source": [
    "from atomate2.vasp.drones import VaspDrone\n",
    "import os\n",
    "import monty\n",
    "from pathlib import Path"
   ]
  },
  {
   "cell_type": "code",
   "execution_count": null,
   "metadata": {},
   "outputs": [],
   "source": [
    "drone = VaspDrone()\n",
    "vasp_dirs = [drone.get_valid_paths(x) for x in os.walk('.') if drone.get_valid_paths(x)]\n",
    "print(vasp_dirs)"
   ]
  },
  {
   "cell_type": "code",
   "execution_count": null,
   "metadata": {},
   "outputs": [],
   "source": [
    "docs = []\n",
    "for vasp_dir in vasp_dirs:\n",
    "    with monty.os.cd(vasp_dir[0]):\n",
    "        print(vasp_dir[0])\n",
    "        docs.append(drone.assimilate())\n",
    "print(docs[0].dict())\n",
    "# [print(k) for k,v in doc.dict().items()]"
   ]
  },
  {
   "cell_type": "code",
   "execution_count": null,
   "metadata": {},
   "outputs": [],
   "source": [
    "from jobflow import SETTINGS\n",
    "\n",
    "store = SETTINGS.JOB_STORE\n",
    "store.connect()\n",
    "\n",
    "for doc in docs:\n",
    "    store.update(\n",
    "        docs=doc, key='output'\n",
    "    )"
   ]
  },
  {
   "cell_type": "code",
   "execution_count": null,
   "metadata": {},
   "outputs": [],
   "source": []
  }
 ],
 "metadata": {
  "kernelspec": {
   "display_name": "Python 3.9.12 ('atomate2')",
   "language": "python",
   "name": "python3"
  },
  "language_info": {
   "codemirror_mode": {
    "name": "ipython",
    "version": 3
   },
   "file_extension": ".py",
   "mimetype": "text/x-python",
   "name": "python",
   "nbconvert_exporter": "python",
   "pygments_lexer": "ipython3",
   "version": "3.9.13"
  },
  "orig_nbformat": 4,
  "vscode": {
   "interpreter": {
    "hash": "90e97c2e1e3d049a0c4dcb4a1fbc9eb7147afc887ab317ded913de62d02f2d04"
   }
  }
 },
 "nbformat": 4,
 "nbformat_minor": 2
}

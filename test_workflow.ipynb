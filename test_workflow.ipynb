{
 "cells": [
  {
   "cell_type": "markdown",
   "metadata": {},
   "source": [
    "# test_workflow.ipynb\n",
    "## Kat Nykiel, Panos Manganaris\n",
    "Demonstrate\n",
    "\n",
    "    - querying materials project for structure\n",
    "    - modifying structure with pymatgen\n",
    "    - submit workflow with atomate\n",
    "    - parse results with jobflow"
   ]
  },
  {
   "cell_type": "markdown",
   "metadata": {},
   "source": [
    "### Query Materials Project"
   ]
  },
  {
   "cell_type": "code",
   "execution_count": null,
   "metadata": {},
   "outputs": [],
   "source": [
    "# Import libraries\n",
    "from mp_api.client import MPRester"
   ]
  },
  {
   "cell_type": "code",
   "execution_count": null,
   "metadata": {},
   "outputs": [],
   "source": [
    "# Read in new Materials Project API key\n",
    "with open(os.path.expanduser('~/keys.txt'), 'r') as f:\n",
    "    key = f.readlines()[0]"
   ]
  },
  {
   "cell_type": "code",
   "execution_count": null,
   "metadata": {},
   "outputs": [],
   "source": [
    "# Query for a Ti3AlC2 MAX structure\n",
    "with MPRester(key) as m:\n",
    "    data = m.summary.search(material_ids=[\"mp-3747\"])\n",
    "    \n",
    "# Verify structure object\n",
    "struct = data[0].structure\n",
    "print(struct)"
   ]
  },
  {
   "cell_type": "markdown",
   "metadata": {},
   "source": [
    "## Modify structure with pymatgen\n",
    "For this example, let's suppose we want to try $Mo_3AlN_2$ instead of $Ti3AlC2$"
   ]
  },
  {
   "cell_type": "code",
   "execution_count": null,
   "metadata": {},
   "outputs": [],
   "source": [
    "map = {\n",
    "    'C':'N',\n",
    "    'Ti':'Mo'\n",
    "}\n",
    "struct.replace_species(map)\n",
    "print(struct)"
   ]
  },
  {
   "cell_type": "markdown",
   "metadata": {},
   "source": [
    "### Submit workflow with atomate\n",
    "For this example, we'll use atomate2's built-in *double relaxation* workflow, but there are many other options such as\n",
    "\n",
    "- static\n",
    "- relax\n",
    "- band structure\n",
    "- elastic constants\n",
    "- optical absorption"
   ]
  },
  {
   "cell_type": "code",
   "execution_count": null,
   "metadata": {},
   "outputs": [],
   "source": [
    "# Import atomate2 libraries\n",
    "from atomate2.vasp.flows.core import DoubleRelaxMaker\n",
    "\n",
    "# Create atomate2 double relax workflow\n",
    "relax_job = DoubleRelaxMaker().make(struct)"
   ]
  },
  {
   "cell_type": "markdown",
   "metadata": {},
   "source": [
    "We can modify the workflow for custom INCAR, KPOINTS or POTCAR settings"
   ]
  },
  {
   "cell_type": "code",
   "execution_count": null,
   "metadata": {},
   "outputs": [],
   "source": [
    "# Modify atomate2 workflow using powerups\n",
    "from atomate2.vasp.powerups import update_user_potcar_functional, update_user_incar_settings\n",
    "from jobflow.managers.fireworks import flow_to_workflow\n",
    "\n",
    "incar_updates = {\n",
    "    'ISMEAR':0,\n",
    "    'SIGMA':0.1,\n",
    "    'ENCUT':500,\n",
    "    'NCORE':8,\n",
    "    'GGA':'PE',\n",
    "    'PREC':'Normal',\n",
    "\n",
    "}\n",
    "\n",
    "relax_job = update_user_incar_settings(relax_job, incar_updates)\n",
    "relax_job = update_user_potcar_functional(relax_job, potcar_functional='PBE_52')\n"
   ]
  },
  {
   "cell_type": "code",
   "execution_count": null,
   "metadata": {},
   "outputs": [],
   "source": [
    "# Submit the workflow with fireworks\n",
    "from fireworks import LaunchPad\n",
    "\n",
    "wf = flow_to_workflow(relax_job)\n",
    "lpad = LaunchPad.auto_load()\n",
    "# TODO: fix where launches occur\n",
    "lpad.add_wf(wf)"
   ]
  },
  {
   "cell_type": "code",
   "execution_count": null,
   "metadata": {},
   "outputs": [],
   "source": [
    "!qlaunch singleshot"
   ]
  },
  {
   "cell_type": "markdown",
   "metadata": {},
   "source": [
    "## Parse results with jobflow"
   ]
  },
  {
   "cell_type": "code",
   "execution_count": null,
   "metadata": {},
   "outputs": [],
   "source": [
    "from jobflow import SETTINGS\n",
    "import pprint\n",
    "\n",
    "store = SETTINGS.JOB_STORE\n",
    "store.connect()\n",
    "result = store.query_one(\n",
    "    {\"output.formula_pretty\":\"AlMo3N2\"},properties=[\"output\"]\n",
    ")\n",
    "pprint.pprint(result)"
   ]
  },
  {
   "cell_type": "code",
   "execution_count": null,
   "metadata": {},
   "outputs": [],
   "source": [
    "from pymatgen.core import Structure\n",
    "print(Structure.from_dict(result['output']['structure']))"
   ]
  },
  {
   "cell_type": "code",
   "execution_count": null,
   "metadata": {},
   "outputs": [],
   "source": []
  }
 ],
 "metadata": {
  "kernelspec": {
   "display_name": "atomate2",
   "language": "python",
   "name": "atomate2"
  },
  "language_info": {
   "codemirror_mode": {
    "name": "ipython",
    "version": 3
   },
   "file_extension": ".py",
   "mimetype": "text/x-python",
   "name": "python",
   "nbconvert_exporter": "python",
   "pygments_lexer": "ipython3",
   "version": "3.9.13"
  },
  "orig_nbformat": 4,
  "vscode": {
   "interpreter": {
    "hash": "956adcbab373f85a1a101d2d6574f5d1e472bbbe21ee184a3cbe1c9bda1fe12d"
   }
  }
 },
 "nbformat": 4,
 "nbformat_minor": 2
}
